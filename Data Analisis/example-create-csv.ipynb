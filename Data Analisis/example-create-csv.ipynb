{
 "cells": [
  {
   "cell_type": "code",
   "execution_count": 16,
   "id": "06c1130d",
   "metadata": {},
   "outputs": [],
   "source": [
    "#input modul yang digunakan yaitu csv\n",
    "import csv\n",
    "data=[\n",
    "    (1, 'dennis ritchie', 'c'),\n",
    "    (2, 'bjarne stroustrup', 'c++'),\n",
    "    (3, 'james gosling', 'java'),\n",
    "    (4, 'larry wall', 'perl')\n",
    "]"
   ]
  },
  {
   "cell_type": "code",
   "execution_count": 21,
   "id": "eedb4dd7",
   "metadata": {},
   "outputs": [],
   "source": [
    "with open('pencipta-bahasa.csv','w',newline='',encoding='utf-8') as csvfile :\n",
    "    #membuat object writer\n",
    "    w=csv.writer(csvfile,delimiter=',')\n",
    "    w.writerows(data)\n",
    "    csvfile.close()"
   ]
  },
  {
   "cell_type": "code",
   "execution_count": 22,
   "id": "a8983f61",
   "metadata": {},
   "outputs": [
    {
     "data": {
      "text/plain": [
       "True"
      ]
     },
     "execution_count": 22,
     "metadata": {},
     "output_type": "execute_result"
    }
   ],
   "source": [
    "#memeriksa file yang telah terbuat\n",
    "import os\n",
    "os.path.exists('pencipta-bahasa.csv')"
   ]
  }
 ],
 "metadata": {
  "kernelspec": {
   "display_name": "Python 3 (ipykernel)",
   "language": "python",
   "name": "python3"
  },
  "language_info": {
   "codemirror_mode": {
    "name": "ipython",
    "version": 3
   },
   "file_extension": ".py",
   "mimetype": "text/x-python",
   "name": "python",
   "nbconvert_exporter": "python",
   "pygments_lexer": "ipython3",
   "version": "3.10.6"
  }
 },
 "nbformat": 4,
 "nbformat_minor": 5
}
